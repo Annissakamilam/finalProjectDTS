{
  "nbformat": 4,
  "nbformat_minor": 0,
  "metadata": {
    "colab": {
      "name": "twitter_classification3.ipynb",
      "provenance": [],
      "collapsed_sections": []
    },
    "kernelspec": {
      "name": "python3",
      "display_name": "Python 3"
    },
    "language_info": {
      "name": "python"
    }
  },
  "cells": [
    {
      "cell_type": "code",
      "execution_count": null,
      "metadata": {
        "colab": {
          "base_uri": "https://localhost:8080/"
        },
        "id": "fdO8KZIIOM0j",
        "outputId": "aafe4d66-1a48-4a53-d5b1-0b51c4ea9afe"
      },
      "outputs": [
        {
          "output_type": "stream",
          "name": "stdout",
          "text": [
            "Mounted at /content/drive\n"
          ]
        }
      ],
      "source": [
        "from google.colab import drive\n",
        "drive.mount('/content/drive', force_remount=True)"
      ]
    },
    {
      "cell_type": "code",
      "source": [
        "import nltk\n",
        "nltk.download('stopwords')"
      ],
      "metadata": {
        "id": "upX-BpMCbiOo"
      },
      "execution_count": null,
      "outputs": []
    },
    {
      "cell_type": "code",
      "source": [
        "import pandas as pd\n",
        "import numpy as np\n",
        "import matplotlib.pyplot as plt\n",
        "import seaborn as sns\n",
        "\n",
        "import re\n",
        "import string\n",
        "from nltk.corpus import stopwords\n",
        "\n",
        "from sklearn.model_selection import train_test_split\n",
        "\n",
        "import tensorflow as tf\n",
        "from tensorflow.keras.preprocessing.text import Tokenizer\n",
        "from tensorflow.keras.preprocessing.sequence import pad_sequences"
      ],
      "metadata": {
        "id": "it02L8ybON6y"
      },
      "execution_count": null,
      "outputs": []
    },
    {
      "cell_type": "code",
      "source": [
        "df = pd.read_csv('/content/drive/MyDrive/Digi Scholarship/Demo Day/Data/tweets.csv')\n",
        "df"
      ],
      "metadata": {
        "colab": {
          "base_uri": "https://localhost:8080/",
          "height": 424
        },
        "id": "L000qTqnORZN",
        "outputId": "a6223686-0beb-4db0-8152-7f21465c7159"
      },
      "execution_count": null,
      "outputs": [
        {
          "output_type": "execute_result",
          "data": {
            "text/plain": [
              "          id  keyword                 location  \\\n",
              "0          0   ablaze                      NaN   \n",
              "1          1   ablaze                      NaN   \n",
              "2          2   ablaze            New York City   \n",
              "3          3   ablaze           Morgantown, WV   \n",
              "4          4   ablaze                      NaN   \n",
              "...      ...      ...                      ...   \n",
              "11365  11365  wrecked  Blue State in a red sea   \n",
              "11366  11366  wrecked               arohaonces   \n",
              "11367  11367  wrecked                       🇵🇭   \n",
              "11368  11368  wrecked           auroraborealis   \n",
              "11369  11369  wrecked                      NaN   \n",
              "\n",
              "                                                    text  target  \n",
              "0      Communal violence in Bhainsa, Telangana. \"Ston...       1  \n",
              "1      Telangana: Section 144 has been imposed in Bha...       1  \n",
              "2      Arsonist sets cars ablaze at dealership https:...       1  \n",
              "3      Arsonist sets cars ablaze at dealership https:...       1  \n",
              "4      \"Lord Jesus, your love brings freedom and pard...       0  \n",
              "...                                                  ...     ...  \n",
              "11365  Media should have warned us well in advance. T...       0  \n",
              "11366  i feel directly attacked 💀 i consider moonbin ...       0  \n",
              "11367  i feel directly attacked 💀 i consider moonbin ...       0  \n",
              "11368  ok who remember \"outcast\" nd the \"dora\" au?? T...       0  \n",
              "11369     Jake Corway wrecked while running 14th at IRP.       1  \n",
              "\n",
              "[11370 rows x 5 columns]"
            ],
            "text/html": [
              "\n",
              "  <div id=\"df-7f62b2e8-aaec-415d-b428-077926b890b0\">\n",
              "    <div class=\"colab-df-container\">\n",
              "      <div>\n",
              "<style scoped>\n",
              "    .dataframe tbody tr th:only-of-type {\n",
              "        vertical-align: middle;\n",
              "    }\n",
              "\n",
              "    .dataframe tbody tr th {\n",
              "        vertical-align: top;\n",
              "    }\n",
              "\n",
              "    .dataframe thead th {\n",
              "        text-align: right;\n",
              "    }\n",
              "</style>\n",
              "<table border=\"1\" class=\"dataframe\">\n",
              "  <thead>\n",
              "    <tr style=\"text-align: right;\">\n",
              "      <th></th>\n",
              "      <th>id</th>\n",
              "      <th>keyword</th>\n",
              "      <th>location</th>\n",
              "      <th>text</th>\n",
              "      <th>target</th>\n",
              "    </tr>\n",
              "  </thead>\n",
              "  <tbody>\n",
              "    <tr>\n",
              "      <th>0</th>\n",
              "      <td>0</td>\n",
              "      <td>ablaze</td>\n",
              "      <td>NaN</td>\n",
              "      <td>Communal violence in Bhainsa, Telangana. \"Ston...</td>\n",
              "      <td>1</td>\n",
              "    </tr>\n",
              "    <tr>\n",
              "      <th>1</th>\n",
              "      <td>1</td>\n",
              "      <td>ablaze</td>\n",
              "      <td>NaN</td>\n",
              "      <td>Telangana: Section 144 has been imposed in Bha...</td>\n",
              "      <td>1</td>\n",
              "    </tr>\n",
              "    <tr>\n",
              "      <th>2</th>\n",
              "      <td>2</td>\n",
              "      <td>ablaze</td>\n",
              "      <td>New York City</td>\n",
              "      <td>Arsonist sets cars ablaze at dealership https:...</td>\n",
              "      <td>1</td>\n",
              "    </tr>\n",
              "    <tr>\n",
              "      <th>3</th>\n",
              "      <td>3</td>\n",
              "      <td>ablaze</td>\n",
              "      <td>Morgantown, WV</td>\n",
              "      <td>Arsonist sets cars ablaze at dealership https:...</td>\n",
              "      <td>1</td>\n",
              "    </tr>\n",
              "    <tr>\n",
              "      <th>4</th>\n",
              "      <td>4</td>\n",
              "      <td>ablaze</td>\n",
              "      <td>NaN</td>\n",
              "      <td>\"Lord Jesus, your love brings freedom and pard...</td>\n",
              "      <td>0</td>\n",
              "    </tr>\n",
              "    <tr>\n",
              "      <th>...</th>\n",
              "      <td>...</td>\n",
              "      <td>...</td>\n",
              "      <td>...</td>\n",
              "      <td>...</td>\n",
              "      <td>...</td>\n",
              "    </tr>\n",
              "    <tr>\n",
              "      <th>11365</th>\n",
              "      <td>11365</td>\n",
              "      <td>wrecked</td>\n",
              "      <td>Blue State in a red sea</td>\n",
              "      <td>Media should have warned us well in advance. T...</td>\n",
              "      <td>0</td>\n",
              "    </tr>\n",
              "    <tr>\n",
              "      <th>11366</th>\n",
              "      <td>11366</td>\n",
              "      <td>wrecked</td>\n",
              "      <td>arohaonces</td>\n",
              "      <td>i feel directly attacked 💀 i consider moonbin ...</td>\n",
              "      <td>0</td>\n",
              "    </tr>\n",
              "    <tr>\n",
              "      <th>11367</th>\n",
              "      <td>11367</td>\n",
              "      <td>wrecked</td>\n",
              "      <td>🇵🇭</td>\n",
              "      <td>i feel directly attacked 💀 i consider moonbin ...</td>\n",
              "      <td>0</td>\n",
              "    </tr>\n",
              "    <tr>\n",
              "      <th>11368</th>\n",
              "      <td>11368</td>\n",
              "      <td>wrecked</td>\n",
              "      <td>auroraborealis</td>\n",
              "      <td>ok who remember \"outcast\" nd the \"dora\" au?? T...</td>\n",
              "      <td>0</td>\n",
              "    </tr>\n",
              "    <tr>\n",
              "      <th>11369</th>\n",
              "      <td>11369</td>\n",
              "      <td>wrecked</td>\n",
              "      <td>NaN</td>\n",
              "      <td>Jake Corway wrecked while running 14th at IRP.</td>\n",
              "      <td>1</td>\n",
              "    </tr>\n",
              "  </tbody>\n",
              "</table>\n",
              "<p>11370 rows × 5 columns</p>\n",
              "</div>\n",
              "      <button class=\"colab-df-convert\" onclick=\"convertToInteractive('df-7f62b2e8-aaec-415d-b428-077926b890b0')\"\n",
              "              title=\"Convert this dataframe to an interactive table.\"\n",
              "              style=\"display:none;\">\n",
              "        \n",
              "  <svg xmlns=\"http://www.w3.org/2000/svg\" height=\"24px\"viewBox=\"0 0 24 24\"\n",
              "       width=\"24px\">\n",
              "    <path d=\"M0 0h24v24H0V0z\" fill=\"none\"/>\n",
              "    <path d=\"M18.56 5.44l.94 2.06.94-2.06 2.06-.94-2.06-.94-.94-2.06-.94 2.06-2.06.94zm-11 1L8.5 8.5l.94-2.06 2.06-.94-2.06-.94L8.5 2.5l-.94 2.06-2.06.94zm10 10l.94 2.06.94-2.06 2.06-.94-2.06-.94-.94-2.06-.94 2.06-2.06.94z\"/><path d=\"M17.41 7.96l-1.37-1.37c-.4-.4-.92-.59-1.43-.59-.52 0-1.04.2-1.43.59L10.3 9.45l-7.72 7.72c-.78.78-.78 2.05 0 2.83L4 21.41c.39.39.9.59 1.41.59.51 0 1.02-.2 1.41-.59l7.78-7.78 2.81-2.81c.8-.78.8-2.07 0-2.86zM5.41 20L4 18.59l7.72-7.72 1.47 1.35L5.41 20z\"/>\n",
              "  </svg>\n",
              "      </button>\n",
              "      \n",
              "  <style>\n",
              "    .colab-df-container {\n",
              "      display:flex;\n",
              "      flex-wrap:wrap;\n",
              "      gap: 12px;\n",
              "    }\n",
              "\n",
              "    .colab-df-convert {\n",
              "      background-color: #E8F0FE;\n",
              "      border: none;\n",
              "      border-radius: 50%;\n",
              "      cursor: pointer;\n",
              "      display: none;\n",
              "      fill: #1967D2;\n",
              "      height: 32px;\n",
              "      padding: 0 0 0 0;\n",
              "      width: 32px;\n",
              "    }\n",
              "\n",
              "    .colab-df-convert:hover {\n",
              "      background-color: #E2EBFA;\n",
              "      box-shadow: 0px 1px 2px rgba(60, 64, 67, 0.3), 0px 1px 3px 1px rgba(60, 64, 67, 0.15);\n",
              "      fill: #174EA6;\n",
              "    }\n",
              "\n",
              "    [theme=dark] .colab-df-convert {\n",
              "      background-color: #3B4455;\n",
              "      fill: #D2E3FC;\n",
              "    }\n",
              "\n",
              "    [theme=dark] .colab-df-convert:hover {\n",
              "      background-color: #434B5C;\n",
              "      box-shadow: 0px 1px 3px 1px rgba(0, 0, 0, 0.15);\n",
              "      filter: drop-shadow(0px 1px 2px rgba(0, 0, 0, 0.3));\n",
              "      fill: #FFFFFF;\n",
              "    }\n",
              "  </style>\n",
              "\n",
              "      <script>\n",
              "        const buttonEl =\n",
              "          document.querySelector('#df-7f62b2e8-aaec-415d-b428-077926b890b0 button.colab-df-convert');\n",
              "        buttonEl.style.display =\n",
              "          google.colab.kernel.accessAllowed ? 'block' : 'none';\n",
              "\n",
              "        async function convertToInteractive(key) {\n",
              "          const element = document.querySelector('#df-7f62b2e8-aaec-415d-b428-077926b890b0');\n",
              "          const dataTable =\n",
              "            await google.colab.kernel.invokeFunction('convertToInteractive',\n",
              "                                                     [key], {});\n",
              "          if (!dataTable) return;\n",
              "\n",
              "          const docLinkHtml = 'Like what you see? Visit the ' +\n",
              "            '<a target=\"_blank\" href=https://colab.research.google.com/notebooks/data_table.ipynb>data table notebook</a>'\n",
              "            + ' to learn more about interactive tables.';\n",
              "          element.innerHTML = '';\n",
              "          dataTable['output_type'] = 'display_data';\n",
              "          await google.colab.output.renderOutput(dataTable, element);\n",
              "          const docLink = document.createElement('div');\n",
              "          docLink.innerHTML = docLinkHtml;\n",
              "          element.appendChild(docLink);\n",
              "        }\n",
              "      </script>\n",
              "    </div>\n",
              "  </div>\n",
              "  "
            ]
          },
          "metadata": {},
          "execution_count": 7
        }
      ]
    },
    {
      "cell_type": "code",
      "source": [
        "plt.figure(figsize=(8, 6))\n",
        "sns.countplot(df.target)\n",
        "plt.show()"
      ],
      "metadata": {
        "colab": {
          "base_uri": "https://localhost:8080/",
          "height": 444
        },
        "id": "osqvOdL4UsTl",
        "outputId": "57a9ca45-9d58-486e-878b-c0f687cbc283"
      },
      "execution_count": null,
      "outputs": [
        {
          "output_type": "stream",
          "name": "stderr",
          "text": [
            "/usr/local/lib/python3.7/dist-packages/seaborn/_decorators.py:43: FutureWarning: Pass the following variable as a keyword arg: x. From version 0.12, the only valid positional argument will be `data`, and passing other arguments without an explicit keyword will result in an error or misinterpretation.\n",
            "  FutureWarning\n"
          ]
        },
        {
          "output_type": "display_data",
          "data": {
            "text/plain": [
              "<Figure size 576x432 with 1 Axes>"
            ],
            "image/png": "[encoded data removed]"
          },
          "metadata": {
            "needs_background": "light"
          }
        }
      ]
    },
    {
      "cell_type": "code",
      "source": [
        "df.keyword.unique()"
      ],
      "metadata": {
        "id": "Per86sYEkuLL",
        "colab": {
          "base_uri": "https://localhost:8080/"
        },
        "outputId": "2e17f351-ebd1-4eb3-afa0-6cd17a6a56c8"
      },
      "execution_count": null,
      "outputs": [
        {
          "output_type": "execute_result",
          "data": {
            "text/plain": [
              "array(['ablaze', 'accident', 'aftershock', 'airplane%20accident',\n",
              "       'ambulance', 'annihilated', 'annihilation', 'apocalypse',\n",
              "       'armageddon', 'army', 'arson', 'arsonist', 'attack', 'attacked',\n",
              "       'avalanche', 'battle', 'bioterror', 'bioterrorism', 'blaze',\n",
              "       'blazing', 'bleeding', 'blew%20up', 'blight', 'blizzard', 'blood',\n",
              "       'bloody', 'blown%20up', 'body%20bag', 'body%20bagging',\n",
              "       'body%20bags', 'bomb', 'bombed', 'bombing', 'bridge%20collapse',\n",
              "       'buildings%20burning', 'buildings%20on%20fire', 'burned',\n",
              "       'burning', 'bush%20fires', 'casualties', 'casualty', 'catastrophe',\n",
              "       'catastrophic', 'chemical%20emergency', 'cliff%20fall', 'collapse',\n",
              "       'collapsed', 'collide', 'collided', 'collision', 'crash',\n",
              "       'crashed', 'crush', 'crushed', 'curfew', 'cyclone', 'damage',\n",
              "       'danger', 'dead', 'death', 'deaths', 'debris', 'deluge', 'deluged',\n",
              "       'demolish', 'demolished', 'demolition', 'derail', 'derailed',\n",
              "       'derailment', 'desolate', 'desolation', 'destroy', 'destroyed',\n",
              "       'destruction', 'detonate', 'devastated', 'devastation', 'disaster',\n",
              "       'displaced', 'drought', 'drown', 'drowned', 'drowning',\n",
              "       'dust%20storm', 'earthquake', 'electrocute', 'electrocuted',\n",
              "       'emergency', 'emergency%20plan', 'emergency%20services',\n",
              "       'engulfed', 'epicentre', 'evacuate', 'evacuated', 'evacuation',\n",
              "       'explode', 'exploded', 'explosion', 'eyewitness', 'famine',\n",
              "       'fatal', 'fatalities', 'fatality', 'fear', 'fire', 'fire%20truck',\n",
              "       'first%20responders', 'flames', 'flattened', 'flood', 'flooding',\n",
              "       'floods', 'forest%20fire', 'forest%20fires', 'hail', 'hailstorm',\n",
              "       'harm', 'hazard', 'hazardous', 'heat%20wave', 'hellfire', 'hijack',\n",
              "       'hijacker', 'hijacking', 'hostage', 'hostages', 'hurricane',\n",
              "       'injured', 'injuries', 'injury', 'inundated', 'inundation',\n",
              "       'landslide', 'lava', 'lightning', 'loud%20bang', 'mass%20murder',\n",
              "       'mass%20murderer', 'massacre', 'mayhem', 'meltdown', 'military',\n",
              "       'mudslide', 'natural%20disaster', 'nuclear%20disaster',\n",
              "       'nuclear%20reactor', 'obliterate', 'obliterated', 'obliteration',\n",
              "       'oil%20spill', 'outbreak', 'pandemonium', 'panic', 'panicking',\n",
              "       'police', 'quarantine', 'quarantined', 'radiation%20emergency',\n",
              "       'rainstorm', 'razed', 'refugees', 'rescue', 'rescued', 'rescuers',\n",
              "       'riot', 'rioting', 'rubble', 'ruin', 'sandstorm', 'screamed',\n",
              "       'screaming', 'screams', 'seismic', 'sinkhole', 'sinking', 'siren',\n",
              "       'sirens', 'smoke', 'snowstorm', 'storm', 'stretcher',\n",
              "       'structural%20failure', 'suicide%20bomb', 'suicide%20bomber',\n",
              "       'suicide%20bombing', 'sunk', 'survive', 'survived', 'survivors',\n",
              "       'terrorism', 'terrorist', 'threat', 'thunder', 'thunderstorm',\n",
              "       'tornado', 'tragedy', 'trapped', 'trauma', 'traumatised',\n",
              "       'trouble', 'tsunami', 'twister', 'typhoon', 'upheaval',\n",
              "       'violent%20storm', 'volcano', 'war%20zone', 'weapon', 'weapons',\n",
              "       'whirlwind', 'wild%20fires', 'wildfire', 'windstorm', 'wounded',\n",
              "       'wounds', 'wreck', 'wreckage', 'wrecked'], dtype=object)"
            ]
          },
          "metadata": {},
          "execution_count": 9
        }
      ]
    },
    {
      "cell_type": "markdown",
      "source": [
        "## **Preprocessing**"
      ],
      "metadata": {
        "id": "CLfXMnxvTLcO"
      }
    },
    {
      "cell_type": "code",
      "source": [
        "# Remove Emoticon\n",
        "def remove_emot(text):\n",
        "    emoticon = re.compile(\"[\"\n",
        "                           u\"\\U0001F600-\\U0001F64F\" \n",
        "                           u\"\\U0001F300-\\U0001F5FF\" \n",
        "                           u\"\\U0001F680-\\U0001F6FF\" \n",
        "                           u\"\\U0001F1E0-\\U0001F1FF\" \n",
        "                           u\"\\U00002702-\\U000027B0\"\n",
        "                           u\"\\U000024C2-\\U0001F251\"\n",
        "                           \"]+\", flags=re.UNICODE)\n",
        "    return emoticon.sub(r'', text)\n",
        "\n",
        "# Remove Stopword & Punctuation\n",
        "def stop_punc(text):  \n",
        "    stop_words = stopwords.words('english')\n",
        "    \n",
        "    punc = [token for token in text if token not in string.punctuation]\n",
        "    punc = ''.join(punc)\n",
        "    \n",
        "    return ' '.join([word for word in punc.split() if word .lower() not in stop_words])"
      ],
      "metadata": {
        "id": "Vql59rd5WRx9"
      },
      "execution_count": null,
      "outputs": []
    },
    {
      "cell_type": "code",
      "source": [
        "df['clean_text'] = df.text.apply(remove_emot).apply(stop_punc)\n",
        "df"
      ],
      "metadata": {
        "colab": {
          "base_uri": "https://localhost:8080/",
          "height": 424
        },
        "id": "dJjE7XJ9aTPy",
        "outputId": "a3603c0e-d95c-4bca-daab-d3f99e4469b9"
      },
      "execution_count": null,
      "outputs": [
        {
          "output_type": "execute_result",
          "data": {
            "text/plain": [
              "          id  keyword                 location  \\\n",
              "0          0   ablaze                      NaN   \n",
              "1          1   ablaze                      NaN   \n",
              "2          2   ablaze            New York City   \n",
              "3          3   ablaze           Morgantown, WV   \n",
              "4          4   ablaze                      NaN   \n",
              "...      ...      ...                      ...   \n",
              "11365  11365  wrecked  Blue State in a red sea   \n",
              "11366  11366  wrecked               arohaonces   \n",
              "11367  11367  wrecked                       🇵🇭   \n",
              "11368  11368  wrecked           auroraborealis   \n",
              "11369  11369  wrecked                      NaN   \n",
              "\n",
              "                                                    text  target  \\\n",
              "0      Communal violence in Bhainsa, Telangana. \"Ston...       1   \n",
              "1      Telangana: Section 144 has been imposed in Bha...       1   \n",
              "2      Arsonist sets cars ablaze at dealership https:...       1   \n",
              "3      Arsonist sets cars ablaze at dealership https:...       1   \n",
              "4      \"Lord Jesus, your love brings freedom and pard...       0   \n",
              "...                                                  ...     ...   \n",
              "11365  Media should have warned us well in advance. T...       0   \n",
              "11366  i feel directly attacked 💀 i consider moonbin ...       0   \n",
              "11367  i feel directly attacked 💀 i consider moonbin ...       0   \n",
              "11368  ok who remember \"outcast\" nd the \"dora\" au?? T...       0   \n",
              "11369     Jake Corway wrecked while running 14th at IRP.       1   \n",
              "\n",
              "                                              clean_text  \n",
              "0      Communal violence Bhainsa Telangana Stones pel...  \n",
              "1      Telangana Section 144 imposed Bhainsa January ...  \n",
              "2      Arsonist sets cars ablaze dealership httpstcog...  \n",
              "3      Arsonist sets cars ablaze dealership httpstco0...  \n",
              "4      Lord Jesus love brings freedom pardon Fill Hol...  \n",
              "...                                                  ...  \n",
              "11365  Media warned us well advance wrecked whole nig...  \n",
              "11366  feel directly attacked consider moonbin amp ji...  \n",
              "11367  feel directly attacked consider moonbin amp ji...  \n",
              "11368  ok remember outcast nd dora au AU WRECKED NERV...  \n",
              "11369               Jake Corway wrecked running 14th IRP  \n",
              "\n",
              "[11370 rows x 6 columns]"
            ],
            "text/html": [
              "\n",
              "  <div id=\"df-a1b613bf-7fc5-4671-ad53-85261eea074e\">\n",
              "    <div class=\"colab-df-container\">\n",
              "      <div>\n",
              "<style scoped>\n",
              "    .dataframe tbody tr th:only-of-type {\n",
              "        vertical-align: middle;\n",
              "    }\n",
              "\n",
              "    .dataframe tbody tr th {\n",
              "        vertical-align: top;\n",
              "    }\n",
              "\n",
              "    .dataframe thead th {\n",
              "        text-align: right;\n",
              "    }\n",
              "</style>\n",
              "<table border=\"1\" class=\"dataframe\">\n",
              "  <thead>\n",
              "    <tr style=\"text-align: right;\">\n",
              "      <th></th>\n",
              "      <th>id</th>\n",
              "      <th>keyword</th>\n",
              "      <th>location</th>\n",
              "      <th>text</th>\n",
              "      <th>target</th>\n",
              "      <th>clean_text</th>\n",
              "    </tr>\n",
              "  </thead>\n",
              "  <tbody>\n",
              "    <tr>\n",
              "      <th>0</th>\n",
              "      <td>0</td>\n",
              "      <td>ablaze</td>\n",
              "      <td>NaN</td>\n",
              "      <td>Communal violence in Bhainsa, Telangana. \"Ston...</td>\n",
              "      <td>1</td>\n",
              "      <td>Communal violence Bhainsa Telangana Stones pel...</td>\n",
              "    </tr>\n",
              "    <tr>\n",
              "      <th>1</th>\n",
              "      <td>1</td>\n",
              "      <td>ablaze</td>\n",
              "      <td>NaN</td>\n",
              "      <td>Telangana: Section 144 has been imposed in Bha...</td>\n",
              "      <td>1</td>\n",
              "      <td>Telangana Section 144 imposed Bhainsa January ...</td>\n",
              "    </tr>\n",
              "    <tr>\n",
              "      <th>2</th>\n",
              "      <td>2</td>\n",
              "      <td>ablaze</td>\n",
              "      <td>New York City</td>\n",
              "      <td>Arsonist sets cars ablaze at dealership https:...</td>\n",
              "      <td>1</td>\n",
              "      <td>Arsonist sets cars ablaze dealership httpstcog...</td>\n",
              "    </tr>\n",
              "    <tr>\n",
              "      <th>3</th>\n",
              "      <td>3</td>\n",
              "      <td>ablaze</td>\n",
              "      <td>Morgantown, WV</td>\n",
              "      <td>Arsonist sets cars ablaze at dealership https:...</td>\n",
              "      <td>1</td>\n",
              "      <td>Arsonist sets cars ablaze dealership httpstco0...</td>\n",
              "    </tr>\n",
              "    <tr>\n",
              "      <th>4</th>\n",
              "      <td>4</td>\n",
              "      <td>ablaze</td>\n",
              "      <td>NaN</td>\n",
              "      <td>\"Lord Jesus, your love brings freedom and pard...</td>\n",
              "      <td>0</td>\n",
              "      <td>Lord Jesus love brings freedom pardon Fill Hol...</td>\n",
              "    </tr>\n",
              "    <tr>\n",
              "      <th>...</th>\n",
              "      <td>...</td>\n",
              "      <td>...</td>\n",
              "      <td>...</td>\n",
              "      <td>...</td>\n",
              "      <td>...</td>\n",
              "      <td>...</td>\n",
              "    </tr>\n",
              "    <tr>\n",
              "      <th>11365</th>\n",
              "      <td>11365</td>\n",
              "      <td>wrecked</td>\n",
              "      <td>Blue State in a red sea</td>\n",
              "      <td>Media should have warned us well in advance. T...</td>\n",
              "      <td>0</td>\n",
              "      <td>Media warned us well advance wrecked whole nig...</td>\n",
              "    </tr>\n",
              "    <tr>\n",
              "      <th>11366</th>\n",
              "      <td>11366</td>\n",
              "      <td>wrecked</td>\n",
              "      <td>arohaonces</td>\n",
              "      <td>i feel directly attacked 💀 i consider moonbin ...</td>\n",
              "      <td>0</td>\n",
              "      <td>feel directly attacked consider moonbin amp ji...</td>\n",
              "    </tr>\n",
              "    <tr>\n",
              "      <th>11367</th>\n",
              "      <td>11367</td>\n",
              "      <td>wrecked</td>\n",
              "      <td>🇵🇭</td>\n",
              "      <td>i feel directly attacked 💀 i consider moonbin ...</td>\n",
              "      <td>0</td>\n",
              "      <td>feel directly attacked consider moonbin amp ji...</td>\n",
              "    </tr>\n",
              "    <tr>\n",
              "      <th>11368</th>\n",
              "      <td>11368</td>\n",
              "      <td>wrecked</td>\n",
              "      <td>auroraborealis</td>\n",
              "      <td>ok who remember \"outcast\" nd the \"dora\" au?? T...</td>\n",
              "      <td>0</td>\n",
              "      <td>ok remember outcast nd dora au AU WRECKED NERV...</td>\n",
              "    </tr>\n",
              "    <tr>\n",
              "      <th>11369</th>\n",
              "      <td>11369</td>\n",
              "      <td>wrecked</td>\n",
              "      <td>NaN</td>\n",
              "      <td>Jake Corway wrecked while running 14th at IRP.</td>\n",
              "      <td>1</td>\n",
              "      <td>Jake Corway wrecked running 14th IRP</td>\n",
              "    </tr>\n",
              "  </tbody>\n",
              "</table>\n",
              "<p>11370 rows × 6 columns</p>\n",
              "</div>\n",
              "      <button class=\"colab-df-convert\" onclick=\"convertToInteractive('df-a1b613bf-7fc5-4671-ad53-85261eea074e')\"\n",
              "              title=\"Convert this dataframe to an interactive table.\"\n",
              "              style=\"display:none;\">\n",
              "        \n",
              "  <svg xmlns=\"http://www.w3.org/2000/svg\" height=\"24px\"viewBox=\"0 0 24 24\"\n",
              "       width=\"24px\">\n",
              "    <path d=\"M0 0h24v24H0V0z\" fill=\"none\"/>\n",
              "    <path d=\"M18.56 5.44l.94 2.06.94-2.06 2.06-.94-2.06-.94-.94-2.06-.94 2.06-2.06.94zm-11 1L8.5 8.5l.94-2.06 2.06-.94-2.06-.94L8.5 2.5l-.94 2.06-2.06.94zm10 10l.94 2.06.94-2.06 2.06-.94-2.06-.94-.94-2.06-.94 2.06-2.06.94z\"/><path d=\"M17.41 7.96l-1.37-1.37c-.4-.4-.92-.59-1.43-.59-.52 0-1.04.2-1.43.59L10.3 9.45l-7.72 7.72c-.78.78-.78 2.05 0 2.83L4 21.41c.39.39.9.59 1.41.59.51 0 1.02-.2 1.41-.59l7.78-7.78 2.81-2.81c.8-.78.8-2.07 0-2.86zM5.41 20L4 18.59l7.72-7.72 1.47 1.35L5.41 20z\"/>\n",
              "  </svg>\n",
              "      </button>\n",
              "      \n",
              "  <style>\n",
              "    .colab-df-container {\n",
              "      display:flex;\n",
              "      flex-wrap:wrap;\n",
              "      gap: 12px;\n",
              "    }\n",
              "\n",
              "    .colab-df-convert {\n",
              "      background-color: #E8F0FE;\n",
              "      border: none;\n",
              "      border-radius: 50%;\n",
              "      cursor: pointer;\n",
              "      display: none;\n",
              "      fill: #1967D2;\n",
              "      height: 32px;\n",
              "      padding: 0 0 0 0;\n",
              "      width: 32px;\n",
              "    }\n",
              "\n",
              "    .colab-df-convert:hover {\n",
              "      background-color: #E2EBFA;\n",
              "      box-shadow: 0px 1px 2px rgba(60, 64, 67, 0.3), 0px 1px 3px 1px rgba(60, 64, 67, 0.15);\n",
              "      fill: #174EA6;\n",
              "    }\n",
              "\n",
              "    [theme=dark] .colab-df-convert {\n",
              "      background-color: #3B4455;\n",
              "      fill: #D2E3FC;\n",
              "    }\n",
              "\n",
              "    [theme=dark] .colab-df-convert:hover {\n",
              "      background-color: #434B5C;\n",
              "      box-shadow: 0px 1px 3px 1px rgba(0, 0, 0, 0.15);\n",
              "      filter: drop-shadow(0px 1px 2px rgba(0, 0, 0, 0.3));\n",
              "      fill: #FFFFFF;\n",
              "    }\n",
              "  </style>\n",
              "\n",
              "      <script>\n",
              "        const buttonEl =\n",
              "          document.querySelector('#df-a1b613bf-7fc5-4671-ad53-85261eea074e button.colab-df-convert');\n",
              "        buttonEl.style.display =\n",
              "          google.colab.kernel.accessAllowed ? 'block' : 'none';\n",
              "\n",
              "        async function convertToInteractive(key) {\n",
              "          const element = document.querySelector('#df-a1b613bf-7fc5-4671-ad53-85261eea074e');\n",
              "          const dataTable =\n",
              "            await google.colab.kernel.invokeFunction('convertToInteractive',\n",
              "                                                     [key], {});\n",
              "          if (!dataTable) return;\n",
              "\n",
              "          const docLinkHtml = 'Like what you see? Visit the ' +\n",
              "            '<a target=\"_blank\" href=https://colab.research.google.com/notebooks/data_table.ipynb>data table notebook</a>'\n",
              "            + ' to learn more about interactive tables.';\n",
              "          element.innerHTML = '';\n",
              "          dataTable['output_type'] = 'display_data';\n",
              "          await google.colab.output.renderOutput(dataTable, element);\n",
              "          const docLink = document.createElement('div');\n",
              "          docLink.innerHTML = docLinkHtml;\n",
              "          element.appendChild(docLink);\n",
              "        }\n",
              "      </script>\n",
              "    </div>\n",
              "  </div>\n",
              "  "
            ]
          },
          "metadata": {},
          "execution_count": 11
        }
      ]
    },
    {
      "cell_type": "code",
      "source": [
        "X = df['clean_text'].values\n",
        "y = df['target'].values\n",
        "\n",
        "\n",
        "X_train, X_test, y_train, y_test = train_test_split(X, y, test_size=0.25)"
      ],
      "metadata": {
        "id": "Gc2J7-ULbEEu"
      },
      "execution_count": null,
      "outputs": []
    },
    {
      "cell_type": "markdown",
      "source": [
        "## **Tokenization**"
      ],
      "metadata": {
        "id": "g2CupNp9d0Ou"
      }
    },
    {
      "cell_type": "code",
      "source": [
        "#tokenizer = Tokenizer(num_words=5000, oov_token='x')\n",
        "tokenizer = Tokenizer(num_words=5000, filters='!\"#$%&()*+,-./:;<=>?@[\\\\]^_`{|}~\\t\\n')\n",
        "tokenizer.fit_on_texts(X_train)\n",
        "tokenizer.fit_on_texts(X_test)\n",
        "\n",
        "sequences_train = tokenizer.texts_to_sequences(X_train)\n",
        "sequences_test = tokenizer.texts_to_sequences(X_test)\n",
        "\n",
        "padding_train = pad_sequences(sequences_train)\n",
        "padding_test = pad_sequences(sequences_test)\n",
        "\n",
        "print(padding_train.shape)\n",
        "print(padding_train)\n",
        "print(padding_test.shape)\n",
        "print(padding_test)"
      ],
      "metadata": {
        "id": "sVctUVGNditp",
        "colab": {
          "base_uri": "https://localhost:8080/"
        },
        "outputId": "f2250e46-8147-49a3-b0b9-f3db1bb2f097"
      },
      "execution_count": null,
      "outputs": [
        {
          "output_type": "stream",
          "name": "stdout",
          "text": [
            "(8527, 19)\n",
            "[[   0    0    0 ... 2999 2183 1723]\n",
            " [   0    0    0 ...  190  351 1413]\n",
            " [   0    0    0 ...   72  279  203]\n",
            " ...\n",
            " [   0    0    0 ... 1084 2195  682]\n",
            " [   0    0    0 ...  306 1538  157]\n",
            " [   0    0    0 ...   93  246  452]]\n",
            "(2843, 21)\n",
            "[[   0    0    0 ...  815  577 3060]\n",
            " [   0    0    0 ... 1536 1735 2279]\n",
            " [   0    0    0 ...  201  389  269]\n",
            " ...\n",
            " [   0    0    0 ...  857 1598   11]\n",
            " [   0    0    0 ...  422  388 1112]\n",
            " [   0    0    0 ... 1040 1615  305]]\n"
          ]
        }
      ]
    },
    {
      "cell_type": "code",
      "source": [
        "model = tf.keras.Sequential([\n",
        "  tf.keras.layers.Embedding(input_dim=5000, output_dim=32),\n",
        "  tf.keras.layers.LSTM(50),\n",
        "  #tf.keras.layers.Dropout(0.2), \n",
        "  tf.keras.layers.Dense(23, activation='relu'),\n",
        "  tf.keras.layers.Dense(1, activation='sigmoid')\n",
        "])\n",
        "\n",
        "model.compile(loss='binary_crossentropy', optimizer='adam', metrics=['accuracy'])\n",
        "\n",
        "print(model.summary())"
      ],
      "metadata": {
        "colab": {
          "base_uri": "https://localhost:8080/"
        },
        "id": "jcNT12-te8O1",
        "outputId": "ce654493-33bd-41b2-f95c-f8c9e6c8b1bc"
      },
      "execution_count": null,
      "outputs": [
        {
          "output_type": "stream",
          "name": "stdout",
          "text": [
            "Model: \"sequential\"\n",
            "_________________________________________________________________\n",
            " Layer (type)                Output Shape              Param #   \n",
            "=================================================================\n",
            " embedding (Embedding)       (None, None, 32)          160000    \n",
            "                                                                 \n",
            " lstm (LSTM)                 (None, 50)                16600     \n",
            "                                                                 \n",
            " dense (Dense)               (None, 23)                1173      \n",
            "                                                                 \n",
            " dense_1 (Dense)             (None, 1)                 24        \n",
            "                                                                 \n",
            "=================================================================\n",
            "Total params: 177,797\n",
            "Trainable params: 177,797\n",
            "Non-trainable params: 0\n",
            "_________________________________________________________________\n",
            "None\n"
          ]
        }
      ]
    },
    {
      "cell_type": "code",
      "source": [
        "num_epochs = 30\n",
        "history = model.fit(padding_train, y_train, epochs=num_epochs, \n",
        "                    validation_data=(padding_test, y_test), verbose=2)"
      ],
      "metadata": {
        "colab": {
          "base_uri": "https://localhost:8080/"
        },
        "id": "EdVjCrVxgBCg",
        "outputId": "a79774f2-08c4-4875-c26f-c38d957f53b0"
      },
      "execution_count": null,
      "outputs": [
        {
          "output_type": "stream",
          "name": "stdout",
          "text": [
            "Epoch 1/30\n",
            "267/267 - 7s - loss: 0.3839 - accuracy: 0.8465 - val_loss: 0.3225 - val_accuracy: 0.8684 - 7s/epoch - 27ms/step\n",
            "Epoch 2/30\n",
            "267/267 - 4s - loss: 0.2016 - accuracy: 0.9253 - val_loss: 0.3124 - val_accuracy: 0.8829 - 4s/epoch - 14ms/step\n",
            "Epoch 3/30\n",
            "267/267 - 4s - loss: 0.1374 - accuracy: 0.9523 - val_loss: 0.3156 - val_accuracy: 0.8857 - 4s/epoch - 15ms/step\n",
            "Epoch 4/30\n",
            "267/267 - 4s - loss: 0.0967 - accuracy: 0.9649 - val_loss: 0.3843 - val_accuracy: 0.8772 - 4s/epoch - 15ms/step\n",
            "Epoch 5/30\n",
            "267/267 - 4s - loss: 0.0637 - accuracy: 0.9801 - val_loss: 0.4792 - val_accuracy: 0.8744 - 4s/epoch - 15ms/step\n",
            "Epoch 6/30\n",
            "267/267 - 4s - loss: 0.0455 - accuracy: 0.9845 - val_loss: 0.5673 - val_accuracy: 0.8621 - 4s/epoch - 15ms/step\n",
            "Epoch 7/30\n",
            "267/267 - 4s - loss: 0.0344 - accuracy: 0.9897 - val_loss: 0.6041 - val_accuracy: 0.8677 - 4s/epoch - 15ms/step\n",
            "Epoch 8/30\n",
            "267/267 - 4s - loss: 0.0237 - accuracy: 0.9934 - val_loss: 0.6993 - val_accuracy: 0.8660 - 4s/epoch - 15ms/step\n",
            "Epoch 9/30\n",
            "267/267 - 4s - loss: 0.0173 - accuracy: 0.9954 - val_loss: 0.7455 - val_accuracy: 0.8776 - 4s/epoch - 15ms/step\n",
            "Epoch 10/30\n",
            "267/267 - 4s - loss: 0.0114 - accuracy: 0.9970 - val_loss: 0.8942 - val_accuracy: 0.8734 - 4s/epoch - 14ms/step\n",
            "Epoch 11/30\n",
            "267/267 - 4s - loss: 0.0110 - accuracy: 0.9967 - val_loss: 0.8492 - val_accuracy: 0.8628 - 4s/epoch - 15ms/step\n",
            "Epoch 12/30\n",
            "267/267 - 4s - loss: 0.0066 - accuracy: 0.9981 - val_loss: 1.0736 - val_accuracy: 0.8544 - 4s/epoch - 15ms/step\n",
            "Epoch 13/30\n",
            "267/267 - 4s - loss: 0.0075 - accuracy: 0.9974 - val_loss: 0.9130 - val_accuracy: 0.8635 - 4s/epoch - 15ms/step\n",
            "Epoch 14/30\n",
            "267/267 - 4s - loss: 0.0116 - accuracy: 0.9964 - val_loss: 0.8611 - val_accuracy: 0.8737 - 4s/epoch - 15ms/step\n",
            "Epoch 15/30\n",
            "267/267 - 4s - loss: 0.0142 - accuracy: 0.9951 - val_loss: 0.8666 - val_accuracy: 0.8646 - 4s/epoch - 15ms/step\n",
            "Epoch 16/30\n",
            "267/267 - 4s - loss: 0.0086 - accuracy: 0.9968 - val_loss: 0.9375 - val_accuracy: 0.8716 - 4s/epoch - 14ms/step\n",
            "Epoch 17/30\n",
            "267/267 - 5s - loss: 0.0051 - accuracy: 0.9980 - val_loss: 1.1877 - val_accuracy: 0.8572 - 5s/epoch - 20ms/step\n",
            "Epoch 18/30\n",
            "267/267 - 4s - loss: 0.0041 - accuracy: 0.9982 - val_loss: 1.1766 - val_accuracy: 0.8547 - 4s/epoch - 16ms/step\n",
            "Epoch 19/30\n",
            "267/267 - 4s - loss: 0.0029 - accuracy: 0.9986 - val_loss: 1.2904 - val_accuracy: 0.8635 - 4s/epoch - 15ms/step\n",
            "Epoch 20/30\n",
            "267/267 - 4s - loss: 0.0061 - accuracy: 0.9978 - val_loss: 0.9425 - val_accuracy: 0.8407 - 4s/epoch - 16ms/step\n",
            "Epoch 21/30\n",
            "267/267 - 4s - loss: 0.0096 - accuracy: 0.9962 - val_loss: 0.9886 - val_accuracy: 0.8575 - 4s/epoch - 15ms/step\n",
            "Epoch 22/30\n",
            "267/267 - 4s - loss: 0.0071 - accuracy: 0.9973 - val_loss: 1.0332 - val_accuracy: 0.8625 - 4s/epoch - 15ms/step\n",
            "Epoch 23/30\n",
            "267/267 - 4s - loss: 0.0068 - accuracy: 0.9974 - val_loss: 1.2293 - val_accuracy: 0.8586 - 4s/epoch - 15ms/step\n",
            "Epoch 24/30\n",
            "267/267 - 4s - loss: 0.0034 - accuracy: 0.9985 - val_loss: 1.3383 - val_accuracy: 0.8600 - 4s/epoch - 15ms/step\n",
            "Epoch 25/30\n",
            "267/267 - 4s - loss: 0.0033 - accuracy: 0.9984 - val_loss: 1.2454 - val_accuracy: 0.8568 - 4s/epoch - 15ms/step\n",
            "Epoch 26/30\n",
            "267/267 - 4s - loss: 0.0022 - accuracy: 0.9988 - val_loss: 1.5492 - val_accuracy: 0.8554 - 4s/epoch - 15ms/step\n",
            "Epoch 27/30\n",
            "267/267 - 4s - loss: 0.0026 - accuracy: 0.9989 - val_loss: 1.6058 - val_accuracy: 0.8544 - 4s/epoch - 15ms/step\n",
            "Epoch 28/30\n",
            "267/267 - 4s - loss: 0.0022 - accuracy: 0.9989 - val_loss: 1.5482 - val_accuracy: 0.8512 - 4s/epoch - 15ms/step\n",
            "Epoch 29/30\n",
            "267/267 - 4s - loss: 0.0020 - accuracy: 0.9992 - val_loss: 1.8374 - val_accuracy: 0.8466 - 4s/epoch - 14ms/step\n",
            "Epoch 30/30\n",
            "267/267 - 4s - loss: 0.0055 - accuracy: 0.9982 - val_loss: 1.4399 - val_accuracy: 0.8632 - 4s/epoch - 15ms/step\n"
          ]
        }
      ]
    },
    {
      "cell_type": "code",
      "source": [
        "plt.plot(history.history['loss'])\n",
        "plt.plot(history.history['val_loss'])\n",
        "plt.title('Loss Model')\n",
        "plt.ylabel('Loss')\n",
        "plt.xlabel('Epoch')\n",
        "plt.legend(['train', 'test'], loc='upper left')\n",
        "plt.show()"
      ],
      "metadata": {
        "colab": {
          "base_uri": "https://localhost:8080/",
          "height": 295
        },
        "id": "5vFZ2HXrgch6",
        "outputId": "d5d9b670-88b6-40ba-83a8-38c0a1f20fe3"
      },
      "execution_count": null,
      "outputs": [
        {
          "output_type": "display_data",
          "data": {
            "text/plain": [
              "<Figure size 432x288 with 1 Axes>"
            ],
            "image/png": "[encoded data removed]"
          },
          "metadata": {
            "needs_background": "light"
          }
        }
      ]
    },
    {
      "cell_type": "code",
      "source": [
        "plt.plot(history.history['accuracy'])\n",
        "plt.plot(history.history['val_accuracy'])\n",
        "plt.title('Akurasi Model')\n",
        "plt.ylabel('Accuracy')\n",
        "plt.xlabel('Epoch')\n",
        "plt.legend(['train', 'test'], loc='upper left')\n",
        "plt.show()"
      ],
      "metadata": {
        "colab": {
          "base_uri": "https://localhost:8080/",
          "height": 295
        },
        "id": "RlTwA2ESlXZ7",
        "outputId": "981d4970-c6eb-4284-e385-0b5f8f39737b"
      },
      "execution_count": null,
      "outputs": [
        {
          "output_type": "display_data",
          "data": {
            "text/plain": [
              "<Figure size 432x288 with 1 Axes>"
            ],
            "image/png": "[encoded data removed]"
          },
          "metadata": {
            "needs_background": "light"
          }
        }
      ]
    },
    {
      "cell_type": "code",
      "source": [
        "def predict(tweet):\n",
        "    test_word = tweet\n",
        "\n",
        "    sentence = tokenizer.texts_to_sequences([test_word])\n",
        "    sentence = pad_sequences(sentence,maxlen=250)\n",
        "\n",
        "    #prediction = model.predict(sentence)\n",
        "    prediction = int(model.predict(sentence).round().item())\n",
        "    \n",
        "    proba =  np.max(model.predict(sentence))\n",
        "\n",
        "    if(prediction == 0):\n",
        "        return('No Disaster : ',  proba)\n",
        "    else:\n",
        "        return('Disaster : ',  proba)"
      ],
      "metadata": {
        "id": "v94ad03qlZGg"
      },
      "execution_count": null,
      "outputs": []
    },
    {
      "cell_type": "code",
      "source": [
        "predict('Human Coronavirus')"
      ],
      "metadata": {
        "colab": {
          "base_uri": "https://localhost:8080/"
        },
        "id": "dn8s47u1bXGI",
        "outputId": "23ac4c7f-a386-4c34-ee26-016758990145"
      },
      "execution_count": null,
      "outputs": [
        {
          "output_type": "execute_result",
          "data": {
            "text/plain": [
              "('No Disaster : ', 0.4586122)"
            ]
          },
          "metadata": {},
          "execution_count": 32
        }
      ]
    },
    {
      "cell_type": "code",
      "source": [
        "predict('only if Surajmal and Bhau had somehow forged an alliance it would hv resulted in annihilation of ummah')"
      ],
      "metadata": {
        "colab": {
          "base_uri": "https://localhost:8080/"
        },
        "id": "woV9yMF3dj66",
        "outputId": "a5ae113b-90ce-4e28-a005-f28ca1e8bdd4"
      },
      "execution_count": null,
      "outputs": [
        {
          "output_type": "execute_result",
          "data": {
            "text/plain": [
              "('Disaster : ', 0.9999819)"
            ]
          },
          "metadata": {},
          "execution_count": 20
        }
      ]
    },
    {
      "cell_type": "code",
      "source": [
        "predict('This isnt good. I feel for the people of Puerto Rico')"
      ],
      "metadata": {
        "colab": {
          "base_uri": "https://localhost:8080/"
        },
        "id": "K4xePQC0HGIe",
        "outputId": "e06f88ce-7d8f-4e9b-bc67-8c6e7b1410b7"
      },
      "execution_count": null,
      "outputs": [
        {
          "output_type": "execute_result",
          "data": {
            "text/plain": [
              "('No Disaster : ', 1.3862164e-06)"
            ]
          },
          "metadata": {},
          "execution_count": 30
        }
      ]
    },
    {
      "cell_type": "code",
      "source": [
        "predict('Darkake(7 yeek possessor) was killed by possession aftershock on Ritches Tunnels 2')"
      ],
      "metadata": {
        "colab": {
          "base_uri": "https://localhost:8080/"
        },
        "id": "sTswQfxDHPeM",
        "outputId": "d44383e1-2605-43bf-bae4-6287b8d94bc6"
      },
      "execution_count": null,
      "outputs": [
        {
          "output_type": "execute_result",
          "data": {
            "text/plain": [
              "('Disaster : ', 0.9999467)"
            ]
          },
          "metadata": {},
          "execution_count": 31
        }
      ]
    }
  ]
}