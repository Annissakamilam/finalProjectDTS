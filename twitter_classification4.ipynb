{
  "nbformat": 4,
  "nbformat_minor": 0,
  "metadata": {
    "colab": {
      "name": "twitter_classification4.ipynb",
      "provenance": [],
      "collapsed_sections": []
    },
    "kernelspec": {
      "name": "python3",
      "display_name": "Python 3"
    },
    "language_info": {
      "name": "python"
    }
  },
  "cells": [
    {
      "cell_type": "code",
      "execution_count": null,
      "metadata": {
        "colab": {
          "base_uri": "https://localhost:8080/"
        },
        "id": "fdO8KZIIOM0j",
        "outputId": "4f3d215a-f8d8-468e-f36c-900ab2861a8e"
      },
      "outputs": [
        {
          "output_type": "stream",
          "name": "stdout",
          "text": [
            "Mounted at /content/drive\n"
          ]
        }
      ],
      "source": [
        "from google.colab import drive\n",
        "drive.mount('/content/drive', force_remount=True)"
      ]
    },
    {
      "cell_type": "code",
      "source": [
        "import nltk\n",
        "nltk.download('stopwords')"
      ],
      "metadata": {
        "id": "upX-BpMCbiOo",
        "colab": {
          "base_uri": "https://localhost:8080/"
        },
        "outputId": "b8f38a51-a7ae-46b4-99e8-37a4c3896a78"
      },
      "execution_count": null,
      "outputs": [
        {
          "output_type": "stream",
          "name": "stderr",
          "text": [
            "[nltk_data] Downloading package stopwords to /root/nltk_data...\n",
            "[nltk_data]   Unzipping corpora/stopwords.zip.\n"
          ]
        },
        {
          "output_type": "execute_result",
          "data": {
            "text/plain": [
              "True"
            ]
          },
          "metadata": {},
          "execution_count": 2
        }
      ]
    },
    {
      "cell_type": "code",
      "source": [
        "import pandas as pd\n",
        "import numpy as np\n",
        "import matplotlib.pyplot as plt\n",
        "import seaborn as sns\n",
        "\n",
        "import re\n",
        "import string\n",
        "from nltk.corpus import stopwords\n",
        "\n",
        "from sklearn.model_selection import train_test_split\n",
        "\n",
        "import tensorflow as tf\n",
        "from tensorflow.keras.preprocessing.text import Tokenizer\n",
        "from tensorflow.keras.preprocessing.sequence import pad_sequences"
      ],
      "metadata": {
        "id": "it02L8ybON6y"
      },
      "execution_count": null,
      "outputs": []
    },
    {
      "cell_type": "code",
      "source": [
        "df = pd.read_csv('/content/drive/MyDrive/Digi Scholarship/Demo Day/Data/tweets.csv')\n",
        "df"
      ],
      "metadata": {
        "colab": {
          "base_uri": "https://localhost:8080/",
          "height": 424
        },
        "id": "L000qTqnORZN",
        "outputId": "2e6dd2d0-2889-4182-93b6-136ba37a7f30"
      },
      "execution_count": null,
      "outputs": [
        {
          "output_type": "execute_result",
          "data": {
            "text/plain": [
              "          id  keyword                 location  \\\n",
              "0          0   ablaze                      NaN   \n",
              "1          1   ablaze                      NaN   \n",
              "2          2   ablaze            New York City   \n",
              "3          3   ablaze           Morgantown, WV   \n",
              "4          4   ablaze                      NaN   \n",
              "...      ...      ...                      ...   \n",
              "11365  11365  wrecked  Blue State in a red sea   \n",
              "11366  11366  wrecked               arohaonces   \n",
              "11367  11367  wrecked                       🇵🇭   \n",
              "11368  11368  wrecked           auroraborealis   \n",
              "11369  11369  wrecked                      NaN   \n",
              "\n",
              "                                                    text  target  \n",
              "0      Communal violence in Bhainsa, Telangana. \"Ston...       1  \n",
              "1      Telangana: Section 144 has been imposed in Bha...       1  \n",
              "2      Arsonist sets cars ablaze at dealership https:...       1  \n",
              "3      Arsonist sets cars ablaze at dealership https:...       1  \n",
              "4      \"Lord Jesus, your love brings freedom and pard...       0  \n",
              "...                                                  ...     ...  \n",
              "11365  Media should have warned us well in advance. T...       0  \n",
              "11366  i feel directly attacked 💀 i consider moonbin ...       0  \n",
              "11367  i feel directly attacked 💀 i consider moonbin ...       0  \n",
              "11368  ok who remember \"outcast\" nd the \"dora\" au?? T...       0  \n",
              "11369     Jake Corway wrecked while running 14th at IRP.       1  \n",
              "\n",
              "[11370 rows x 5 columns]"
            ],
            "text/html": [
              "\n",
              "  <div id=\"df-3e115248-b280-4f15-a23c-8f22ff4b1fa0\">\n",
              "    <div class=\"colab-df-container\">\n",
              "      <div>\n",
              "<style scoped>\n",
              "    .dataframe tbody tr th:only-of-type {\n",
              "        vertical-align: middle;\n",
              "    }\n",
              "\n",
              "    .dataframe tbody tr th {\n",
              "        vertical-align: top;\n",
              "    }\n",
              "\n",
              "    .dataframe thead th {\n",
              "        text-align: right;\n",
              "    }\n",
              "</style>\n",
              "<table border=\"1\" class=\"dataframe\">\n",
              "  <thead>\n",
              "    <tr style=\"text-align: right;\">\n",
              "      <th></th>\n",
              "      <th>id</th>\n",
              "      <th>keyword</th>\n",
              "      <th>location</th>\n",
              "      <th>text</th>\n",
              "      <th>target</th>\n",
              "    </tr>\n",
              "  </thead>\n",
              "  <tbody>\n",
              "    <tr>\n",
              "      <th>0</th>\n",
              "      <td>0</td>\n",
              "      <td>ablaze</td>\n",
              "      <td>NaN</td>\n",
              "      <td>Communal violence in Bhainsa, Telangana. \"Ston...</td>\n",
              "      <td>1</td>\n",
              "    </tr>\n",
              "    <tr>\n",
              "      <th>1</th>\n",
              "      <td>1</td>\n",
              "      <td>ablaze</td>\n",
              "      <td>NaN</td>\n",
              "      <td>Telangana: Section 144 has been imposed in Bha...</td>\n",
              "      <td>1</td>\n",
              "    </tr>\n",
              "    <tr>\n",
              "      <th>2</th>\n",
              "      <td>2</td>\n",
              "      <td>ablaze</td>\n",
              "      <td>New York City</td>\n",
              "      <td>Arsonist sets cars ablaze at dealership https:...</td>\n",
              "      <td>1</td>\n",
              "    </tr>\n",
              "    <tr>\n",
              "      <th>3</th>\n",
              "      <td>3</td>\n",
              "      <td>ablaze</td>\n",
              "      <td>Morgantown, WV</td>\n",
              "      <td>Arsonist sets cars ablaze at dealership https:...</td>\n",
              "      <td>1</td>\n",
              "    </tr>\n",
              "    <tr>\n",
              "      <th>4</th>\n",
              "      <td>4</td>\n",
              "      <td>ablaze</td>\n",
              "      <td>NaN</td>\n",
              "      <td>\"Lord Jesus, your love brings freedom and pard...</td>\n",
              "      <td>0</td>\n",
              "    </tr>\n",
              "    <tr>\n",
              "      <th>...</th>\n",
              "      <td>...</td>\n",
              "      <td>...</td>\n",
              "      <td>...</td>\n",
              "      <td>...</td>\n",
              "      <td>...</td>\n",
              "    </tr>\n",
              "    <tr>\n",
              "      <th>11365</th>\n",
              "      <td>11365</td>\n",
              "      <td>wrecked</td>\n",
              "      <td>Blue State in a red sea</td>\n",
              "      <td>Media should have warned us well in advance. T...</td>\n",
              "      <td>0</td>\n",
              "    </tr>\n",
              "    <tr>\n",
              "      <th>11366</th>\n",
              "      <td>11366</td>\n",
              "      <td>wrecked</td>\n",
              "      <td>arohaonces</td>\n",
              "      <td>i feel directly attacked 💀 i consider moonbin ...</td>\n",
              "      <td>0</td>\n",
              "    </tr>\n",
              "    <tr>\n",
              "      <th>11367</th>\n",
              "      <td>11367</td>\n",
              "      <td>wrecked</td>\n",
              "      <td>🇵🇭</td>\n",
              "      <td>i feel directly attacked 💀 i consider moonbin ...</td>\n",
              "      <td>0</td>\n",
              "    </tr>\n",
              "    <tr>\n",
              "      <th>11368</th>\n",
              "      <td>11368</td>\n",
              "      <td>wrecked</td>\n",
              "      <td>auroraborealis</td>\n",
              "      <td>ok who remember \"outcast\" nd the \"dora\" au?? T...</td>\n",
              "      <td>0</td>\n",
              "    </tr>\n",
              "    <tr>\n",
              "      <th>11369</th>\n",
              "      <td>11369</td>\n",
              "      <td>wrecked</td>\n",
              "      <td>NaN</td>\n",
              "      <td>Jake Corway wrecked while running 14th at IRP.</td>\n",
              "      <td>1</td>\n",
              "    </tr>\n",
              "  </tbody>\n",
              "</table>\n",
              "<p>11370 rows × 5 columns</p>\n",
              "</div>\n",
              "      <button class=\"colab-df-convert\" onclick=\"convertToInteractive('df-3e115248-b280-4f15-a23c-8f22ff4b1fa0')\"\n",
              "              title=\"Convert this dataframe to an interactive table.\"\n",
              "              style=\"display:none;\">\n",
              "        \n",
              "  <svg xmlns=\"http://www.w3.org/2000/svg\" height=\"24px\"viewBox=\"0 0 24 24\"\n",
              "       width=\"24px\">\n",
              "    <path d=\"M0 0h24v24H0V0z\" fill=\"none\"/>\n",
              "    <path d=\"M18.56 5.44l.94 2.06.94-2.06 2.06-.94-2.06-.94-.94-2.06-.94 2.06-2.06.94zm-11 1L8.5 8.5l.94-2.06 2.06-.94-2.06-.94L8.5 2.5l-.94 2.06-2.06.94zm10 10l.94 2.06.94-2.06 2.06-.94-2.06-.94-.94-2.06-.94 2.06-2.06.94z\"/><path d=\"M17.41 7.96l-1.37-1.37c-.4-.4-.92-.59-1.43-.59-.52 0-1.04.2-1.43.59L10.3 9.45l-7.72 7.72c-.78.78-.78 2.05 0 2.83L4 21.41c.39.39.9.59 1.41.59.51 0 1.02-.2 1.41-.59l7.78-7.78 2.81-2.81c.8-.78.8-2.07 0-2.86zM5.41 20L4 18.59l7.72-7.72 1.47 1.35L5.41 20z\"/>\n",
              "  </svg>\n",
              "      </button>\n",
              "      \n",
              "  <style>\n",
              "    .colab-df-container {\n",
              "      display:flex;\n",
              "      flex-wrap:wrap;\n",
              "      gap: 12px;\n",
              "    }\n",
              "\n",
              "    .colab-df-convert {\n",
              "      background-color: #E8F0FE;\n",
              "      border: none;\n",
              "      border-radius: 50%;\n",
              "      cursor: pointer;\n",
              "      display: none;\n",
              "      fill: #1967D2;\n",
              "      height: 32px;\n",
              "      padding: 0 0 0 0;\n",
              "      width: 32px;\n",
              "    }\n",
              "\n",
              "    .colab-df-convert:hover {\n",
              "      background-color: #E2EBFA;\n",
              "      box-shadow: 0px 1px 2px rgba(60, 64, 67, 0.3), 0px 1px 3px 1px rgba(60, 64, 67, 0.15);\n",
              "      fill: #174EA6;\n",
              "    }\n",
              "\n",
              "    [theme=dark] .colab-df-convert {\n",
              "      background-color: #3B4455;\n",
              "      fill: #D2E3FC;\n",
              "    }\n",
              "\n",
              "    [theme=dark] .colab-df-convert:hover {\n",
              "      background-color: #434B5C;\n",
              "      box-shadow: 0px 1px 3px 1px rgba(0, 0, 0, 0.15);\n",
              "      filter: drop-shadow(0px 1px 2px rgba(0, 0, 0, 0.3));\n",
              "      fill: #FFFFFF;\n",
              "    }\n",
              "  </style>\n",
              "\n",
              "      <script>\n",
              "        const buttonEl =\n",
              "          document.querySelector('#df-3e115248-b280-4f15-a23c-8f22ff4b1fa0 button.colab-df-convert');\n",
              "        buttonEl.style.display =\n",
              "          google.colab.kernel.accessAllowed ? 'block' : 'none';\n",
              "\n",
              "        async function convertToInteractive(key) {\n",
              "          const element = document.querySelector('#df-3e115248-b280-4f15-a23c-8f22ff4b1fa0');\n",
              "          const dataTable =\n",
              "            await google.colab.kernel.invokeFunction('convertToInteractive',\n",
              "                                                     [key], {});\n",
              "          if (!dataTable) return;\n",
              "\n",
              "          const docLinkHtml = 'Like what you see? Visit the ' +\n",
              "            '<a target=\"_blank\" href=https://colab.research.google.com/notebooks/data_table.ipynb>data table notebook</a>'\n",
              "            + ' to learn more about interactive tables.';\n",
              "          element.innerHTML = '';\n",
              "          dataTable['output_type'] = 'display_data';\n",
              "          await google.colab.output.renderOutput(dataTable, element);\n",
              "          const docLink = document.createElement('div');\n",
              "          docLink.innerHTML = docLinkHtml;\n",
              "          element.appendChild(docLink);\n",
              "        }\n",
              "      </script>\n",
              "    </div>\n",
              "  </div>\n",
              "  "
            ]
          },
          "metadata": {},
          "execution_count": 4
        }
      ]
    },
    {
      "cell_type": "code",
      "source": [
        "plt.figure(figsize=(8, 6))\n",
        "sns.countplot(df.target)\n",
        "plt.show()"
      ],
      "metadata": {
        "colab": {
          "base_uri": "https://localhost:8080/",
          "height": 444
        },
        "id": "osqvOdL4UsTl",
        "outputId": "06065335-cc05-4624-b0ed-aaf9b8ac82ee"
      },
      "execution_count": null,
      "outputs": [
        {
          "output_type": "stream",
          "name": "stderr",
          "text": [
            "/usr/local/lib/python3.7/dist-packages/seaborn/_decorators.py:43: FutureWarning: Pass the following variable as a keyword arg: x. From version 0.12, the only valid positional argument will be `data`, and passing other arguments without an explicit keyword will result in an error or misinterpretation.\n",
            "  FutureWarning\n"
          ]
        },
        {
          "output_type": "display_data",
          "data": {
            "text/plain": [
              "<Figure size 576x432 with 1 Axes>"
            ],
            "image/png": "[encoded data removed]"
          },
          "metadata": {
            "needs_background": "light"
          }
        }
      ]
    },
    {
      "cell_type": "code",
      "source": [
        "df.keyword.unique()"
      ],
      "metadata": {
        "id": "Per86sYEkuLL",
        "colab": {
          "base_uri": "https://localhost:8080/"
        },
        "outputId": "5f55a76e-bba1-4599-fc55-97638a37b73b"
      },
      "execution_count": null,
      "outputs": [
        {
          "output_type": "execute_result",
          "data": {
            "text/plain": [
              "array(['ablaze', 'accident', 'aftershock', 'airplane%20accident',\n",
              "       'ambulance', 'annihilated', 'annihilation', 'apocalypse',\n",
              "       'armageddon', 'army', 'arson', 'arsonist', 'attack', 'attacked',\n",
              "       'avalanche', 'battle', 'bioterror', 'bioterrorism', 'blaze',\n",
              "       'blazing', 'bleeding', 'blew%20up', 'blight', 'blizzard', 'blood',\n",
              "       'bloody', 'blown%20up', 'body%20bag', 'body%20bagging',\n",
              "       'body%20bags', 'bomb', 'bombed', 'bombing', 'bridge%20collapse',\n",
              "       'buildings%20burning', 'buildings%20on%20fire', 'burned',\n",
              "       'burning', 'bush%20fires', 'casualties', 'casualty', 'catastrophe',\n",
              "       'catastrophic', 'chemical%20emergency', 'cliff%20fall', 'collapse',\n",
              "       'collapsed', 'collide', 'collided', 'collision', 'crash',\n",
              "       'crashed', 'crush', 'crushed', 'curfew', 'cyclone', 'damage',\n",
              "       'danger', 'dead', 'death', 'deaths', 'debris', 'deluge', 'deluged',\n",
              "       'demolish', 'demolished', 'demolition', 'derail', 'derailed',\n",
              "       'derailment', 'desolate', 'desolation', 'destroy', 'destroyed',\n",
              "       'destruction', 'detonate', 'devastated', 'devastation', 'disaster',\n",
              "       'displaced', 'drought', 'drown', 'drowned', 'drowning',\n",
              "       'dust%20storm', 'earthquake', 'electrocute', 'electrocuted',\n",
              "       'emergency', 'emergency%20plan', 'emergency%20services',\n",
              "       'engulfed', 'epicentre', 'evacuate', 'evacuated', 'evacuation',\n",
              "       'explode', 'exploded', 'explosion', 'eyewitness', 'famine',\n",
              "       'fatal', 'fatalities', 'fatality', 'fear', 'fire', 'fire%20truck',\n",
              "       'first%20responders', 'flames', 'flattened', 'flood', 'flooding',\n",
              "       'floods', 'forest%20fire', 'forest%20fires', 'hail', 'hailstorm',\n",
              "       'harm', 'hazard', 'hazardous', 'heat%20wave', 'hellfire', 'hijack',\n",
              "       'hijacker', 'hijacking', 'hostage', 'hostages', 'hurricane',\n",
              "       'injured', 'injuries', 'injury', 'inundated', 'inundation',\n",
              "       'landslide', 'lava', 'lightning', 'loud%20bang', 'mass%20murder',\n",
              "       'mass%20murderer', 'massacre', 'mayhem', 'meltdown', 'military',\n",
              "       'mudslide', 'natural%20disaster', 'nuclear%20disaster',\n",
              "       'nuclear%20reactor', 'obliterate', 'obliterated', 'obliteration',\n",
              "       'oil%20spill', 'outbreak', 'pandemonium', 'panic', 'panicking',\n",
              "       'police', 'quarantine', 'quarantined', 'radiation%20emergency',\n",
              "       'rainstorm', 'razed', 'refugees', 'rescue', 'rescued', 'rescuers',\n",
              "       'riot', 'rioting', 'rubble', 'ruin', 'sandstorm', 'screamed',\n",
              "       'screaming', 'screams', 'seismic', 'sinkhole', 'sinking', 'siren',\n",
              "       'sirens', 'smoke', 'snowstorm', 'storm', 'stretcher',\n",
              "       'structural%20failure', 'suicide%20bomb', 'suicide%20bomber',\n",
              "       'suicide%20bombing', 'sunk', 'survive', 'survived', 'survivors',\n",
              "       'terrorism', 'terrorist', 'threat', 'thunder', 'thunderstorm',\n",
              "       'tornado', 'tragedy', 'trapped', 'trauma', 'traumatised',\n",
              "       'trouble', 'tsunami', 'twister', 'typhoon', 'upheaval',\n",
              "       'violent%20storm', 'volcano', 'war%20zone', 'weapon', 'weapons',\n",
              "       'whirlwind', 'wild%20fires', 'wildfire', 'windstorm', 'wounded',\n",
              "       'wounds', 'wreck', 'wreckage', 'wrecked'], dtype=object)"
            ]
          },
          "metadata": {},
          "execution_count": 6
        }
      ]
    },
    {
      "cell_type": "markdown",
      "source": [
        "## **Preprocessing**"
      ],
      "metadata": {
        "id": "CLfXMnxvTLcO"
      }
    },
    {
      "cell_type": "code",
      "source": [
        "# Remove Emoticon\n",
        "def remove_emot(text):\n",
        "    emoticon = re.compile(\"[\"\n",
        "                           u\"\\U0001F600-\\U0001F64F\" \n",
        "                           u\"\\U0001F300-\\U0001F5FF\" \n",
        "                           u\"\\U0001F680-\\U0001F6FF\" \n",
        "                           u\"\\U0001F1E0-\\U0001F1FF\" \n",
        "                           u\"\\U00002702-\\U000027B0\"\n",
        "                           u\"\\U000024C2-\\U0001F251\"\n",
        "                           \"]+\", flags=re.UNICODE)\n",
        "    return emoticon.sub(r'', text)\n",
        "\n",
        "# Remove Stopword & Punctuation\n",
        "def stop_punc(text):  \n",
        "    stop_words = stopwords.words('english')\n",
        "    \n",
        "    punc = [token for token in text if token not in string.punctuation]\n",
        "    punc = ''.join(punc)\n",
        "    \n",
        "    return ' '.join([word for word in punc.split() if word .lower() not in stop_words])"
      ],
      "metadata": {
        "id": "Vql59rd5WRx9"
      },
      "execution_count": null,
      "outputs": []
    },
    {
      "cell_type": "code",
      "source": [
        "df['clean_text'] = df.text.apply(remove_emot).apply(stop_punc)\n",
        "df"
      ],
      "metadata": {
        "colab": {
          "base_uri": "https://localhost:8080/",
          "height": 424
        },
        "id": "dJjE7XJ9aTPy",
        "outputId": "3fe92d3e-7a39-4b72-808a-a13fe7c1ae0d"
      },
      "execution_count": null,
      "outputs": [
        {
          "output_type": "execute_result",
          "data": {
            "text/plain": [
              "          id  keyword                 location  \\\n",
              "0          0   ablaze                      NaN   \n",
              "1          1   ablaze                      NaN   \n",
              "2          2   ablaze            New York City   \n",
              "3          3   ablaze           Morgantown, WV   \n",
              "4          4   ablaze                      NaN   \n",
              "...      ...      ...                      ...   \n",
              "11365  11365  wrecked  Blue State in a red sea   \n",
              "11366  11366  wrecked               arohaonces   \n",
              "11367  11367  wrecked                       🇵🇭   \n",
              "11368  11368  wrecked           auroraborealis   \n",
              "11369  11369  wrecked                      NaN   \n",
              "\n",
              "                                                    text  target  \\\n",
              "0      Communal violence in Bhainsa, Telangana. \"Ston...       1   \n",
              "1      Telangana: Section 144 has been imposed in Bha...       1   \n",
              "2      Arsonist sets cars ablaze at dealership https:...       1   \n",
              "3      Arsonist sets cars ablaze at dealership https:...       1   \n",
              "4      \"Lord Jesus, your love brings freedom and pard...       0   \n",
              "...                                                  ...     ...   \n",
              "11365  Media should have warned us well in advance. T...       0   \n",
              "11366  i feel directly attacked 💀 i consider moonbin ...       0   \n",
              "11367  i feel directly attacked 💀 i consider moonbin ...       0   \n",
              "11368  ok who remember \"outcast\" nd the \"dora\" au?? T...       0   \n",
              "11369     Jake Corway wrecked while running 14th at IRP.       1   \n",
              "\n",
              "                                              clean_text  \n",
              "0      Communal violence Bhainsa Telangana Stones pel...  \n",
              "1      Telangana Section 144 imposed Bhainsa January ...  \n",
              "2      Arsonist sets cars ablaze dealership httpstcog...  \n",
              "3      Arsonist sets cars ablaze dealership httpstco0...  \n",
              "4      Lord Jesus love brings freedom pardon Fill Hol...  \n",
              "...                                                  ...  \n",
              "11365  Media warned us well advance wrecked whole nig...  \n",
              "11366  feel directly attacked consider moonbin amp ji...  \n",
              "11367  feel directly attacked consider moonbin amp ji...  \n",
              "11368  ok remember outcast nd dora au AU WRECKED NERV...  \n",
              "11369               Jake Corway wrecked running 14th IRP  \n",
              "\n",
              "[11370 rows x 6 columns]"
            ],
            "text/html": [
              "\n",
              "  <div id=\"df-55ab60c6-0b07-4b17-a527-cb6d5049cf9f\">\n",
              "    <div class=\"colab-df-container\">\n",
              "      <div>\n",
              "<style scoped>\n",
              "    .dataframe tbody tr th:only-of-type {\n",
              "        vertical-align: middle;\n",
              "    }\n",
              "\n",
              "    .dataframe tbody tr th {\n",
              "        vertical-align: top;\n",
              "    }\n",
              "\n",
              "    .dataframe thead th {\n",
              "        text-align: right;\n",
              "    }\n",
              "</style>\n",
              "<table border=\"1\" class=\"dataframe\">\n",
              "  <thead>\n",
              "    <tr style=\"text-align: right;\">\n",
              "      <th></th>\n",
              "      <th>id</th>\n",
              "      <th>keyword</th>\n",
              "      <th>location</th>\n",
              "      <th>text</th>\n",
              "      <th>target</th>\n",
              "      <th>clean_text</th>\n",
              "    </tr>\n",
              "  </thead>\n",
              "  <tbody>\n",
              "    <tr>\n",
              "      <th>0</th>\n",
              "      <td>0</td>\n",
              "      <td>ablaze</td>\n",
              "      <td>NaN</td>\n",
              "      <td>Communal violence in Bhainsa, Telangana. \"Ston...</td>\n",
              "      <td>1</td>\n",
              "      <td>Communal violence Bhainsa Telangana Stones pel...</td>\n",
              "    </tr>\n",
              "    <tr>\n",
              "      <th>1</th>\n",
              "      <td>1</td>\n",
              "      <td>ablaze</td>\n",
              "      <td>NaN</td>\n",
              "      <td>Telangana: Section 144 has been imposed in Bha...</td>\n",
              "      <td>1</td>\n",
              "      <td>Telangana Section 144 imposed Bhainsa January ...</td>\n",
              "    </tr>\n",
              "    <tr>\n",
              "      <th>2</th>\n",
              "      <td>2</td>\n",
              "      <td>ablaze</td>\n",
              "      <td>New York City</td>\n",
              "      <td>Arsonist sets cars ablaze at dealership https:...</td>\n",
              "      <td>1</td>\n",
              "      <td>Arsonist sets cars ablaze dealership httpstcog...</td>\n",
              "    </tr>\n",
              "    <tr>\n",
              "      <th>3</th>\n",
              "      <td>3</td>\n",
              "      <td>ablaze</td>\n",
              "      <td>Morgantown, WV</td>\n",
              "      <td>Arsonist sets cars ablaze at dealership https:...</td>\n",
              "      <td>1</td>\n",
              "      <td>Arsonist sets cars ablaze dealership httpstco0...</td>\n",
              "    </tr>\n",
              "    <tr>\n",
              "      <th>4</th>\n",
              "      <td>4</td>\n",
              "      <td>ablaze</td>\n",
              "      <td>NaN</td>\n",
              "      <td>\"Lord Jesus, your love brings freedom and pard...</td>\n",
              "      <td>0</td>\n",
              "      <td>Lord Jesus love brings freedom pardon Fill Hol...</td>\n",
              "    </tr>\n",
              "    <tr>\n",
              "      <th>...</th>\n",
              "      <td>...</td>\n",
              "      <td>...</td>\n",
              "      <td>...</td>\n",
              "      <td>...</td>\n",
              "      <td>...</td>\n",
              "      <td>...</td>\n",
              "    </tr>\n",
              "    <tr>\n",
              "      <th>11365</th>\n",
              "      <td>11365</td>\n",
              "      <td>wrecked</td>\n",
              "      <td>Blue State in a red sea</td>\n",
              "      <td>Media should have warned us well in advance. T...</td>\n",
              "      <td>0</td>\n",
              "      <td>Media warned us well advance wrecked whole nig...</td>\n",
              "    </tr>\n",
              "    <tr>\n",
              "      <th>11366</th>\n",
              "      <td>11366</td>\n",
              "      <td>wrecked</td>\n",
              "      <td>arohaonces</td>\n",
              "      <td>i feel directly attacked 💀 i consider moonbin ...</td>\n",
              "      <td>0</td>\n",
              "      <td>feel directly attacked consider moonbin amp ji...</td>\n",
              "    </tr>\n",
              "    <tr>\n",
              "      <th>11367</th>\n",
              "      <td>11367</td>\n",
              "      <td>wrecked</td>\n",
              "      <td>🇵🇭</td>\n",
              "      <td>i feel directly attacked 💀 i consider moonbin ...</td>\n",
              "      <td>0</td>\n",
              "      <td>feel directly attacked consider moonbin amp ji...</td>\n",
              "    </tr>\n",
              "    <tr>\n",
              "      <th>11368</th>\n",
              "      <td>11368</td>\n",
              "      <td>wrecked</td>\n",
              "      <td>auroraborealis</td>\n",
              "      <td>ok who remember \"outcast\" nd the \"dora\" au?? T...</td>\n",
              "      <td>0</td>\n",
              "      <td>ok remember outcast nd dora au AU WRECKED NERV...</td>\n",
              "    </tr>\n",
              "    <tr>\n",
              "      <th>11369</th>\n",
              "      <td>11369</td>\n",
              "      <td>wrecked</td>\n",
              "      <td>NaN</td>\n",
              "      <td>Jake Corway wrecked while running 14th at IRP.</td>\n",
              "      <td>1</td>\n",
              "      <td>Jake Corway wrecked running 14th IRP</td>\n",
              "    </tr>\n",
              "  </tbody>\n",
              "</table>\n",
              "<p>11370 rows × 6 columns</p>\n",
              "</div>\n",
              "      <button class=\"colab-df-convert\" onclick=\"convertToInteractive('df-55ab60c6-0b07-4b17-a527-cb6d5049cf9f')\"\n",
              "              title=\"Convert this dataframe to an interactive table.\"\n",
              "              style=\"display:none;\">\n",
              "        \n",
              "  <svg xmlns=\"http://www.w3.org/2000/svg\" height=\"24px\"viewBox=\"0 0 24 24\"\n",
              "       width=\"24px\">\n",
              "    <path d=\"M0 0h24v24H0V0z\" fill=\"none\"/>\n",
              "    <path d=\"M18.56 5.44l.94 2.06.94-2.06 2.06-.94-2.06-.94-.94-2.06-.94 2.06-2.06.94zm-11 1L8.5 8.5l.94-2.06 2.06-.94-2.06-.94L8.5 2.5l-.94 2.06-2.06.94zm10 10l.94 2.06.94-2.06 2.06-.94-2.06-.94-.94-2.06-.94 2.06-2.06.94z\"/><path d=\"M17.41 7.96l-1.37-1.37c-.4-.4-.92-.59-1.43-.59-.52 0-1.04.2-1.43.59L10.3 9.45l-7.72 7.72c-.78.78-.78 2.05 0 2.83L4 21.41c.39.39.9.59 1.41.59.51 0 1.02-.2 1.41-.59l7.78-7.78 2.81-2.81c.8-.78.8-2.07 0-2.86zM5.41 20L4 18.59l7.72-7.72 1.47 1.35L5.41 20z\"/>\n",
              "  </svg>\n",
              "      </button>\n",
              "      \n",
              "  <style>\n",
              "    .colab-df-container {\n",
              "      display:flex;\n",
              "      flex-wrap:wrap;\n",
              "      gap: 12px;\n",
              "    }\n",
              "\n",
              "    .colab-df-convert {\n",
              "      background-color: #E8F0FE;\n",
              "      border: none;\n",
              "      border-radius: 50%;\n",
              "      cursor: pointer;\n",
              "      display: none;\n",
              "      fill: #1967D2;\n",
              "      height: 32px;\n",
              "      padding: 0 0 0 0;\n",
              "      width: 32px;\n",
              "    }\n",
              "\n",
              "    .colab-df-convert:hover {\n",
              "      background-color: #E2EBFA;\n",
              "      box-shadow: 0px 1px 2px rgba(60, 64, 67, 0.3), 0px 1px 3px 1px rgba(60, 64, 67, 0.15);\n",
              "      fill: #174EA6;\n",
              "    }\n",
              "\n",
              "    [theme=dark] .colab-df-convert {\n",
              "      background-color: #3B4455;\n",
              "      fill: #D2E3FC;\n",
              "    }\n",
              "\n",
              "    [theme=dark] .colab-df-convert:hover {\n",
              "      background-color: #434B5C;\n",
              "      box-shadow: 0px 1px 3px 1px rgba(0, 0, 0, 0.15);\n",
              "      filter: drop-shadow(0px 1px 2px rgba(0, 0, 0, 0.3));\n",
              "      fill: #FFFFFF;\n",
              "    }\n",
              "  </style>\n",
              "\n",
              "      <script>\n",
              "        const buttonEl =\n",
              "          document.querySelector('#df-55ab60c6-0b07-4b17-a527-cb6d5049cf9f button.colab-df-convert');\n",
              "        buttonEl.style.display =\n",
              "          google.colab.kernel.accessAllowed ? 'block' : 'none';\n",
              "\n",
              "        async function convertToInteractive(key) {\n",
              "          const element = document.querySelector('#df-55ab60c6-0b07-4b17-a527-cb6d5049cf9f');\n",
              "          const dataTable =\n",
              "            await google.colab.kernel.invokeFunction('convertToInteractive',\n",
              "                                                     [key], {});\n",
              "          if (!dataTable) return;\n",
              "\n",
              "          const docLinkHtml = 'Like what you see? Visit the ' +\n",
              "            '<a target=\"_blank\" href=https://colab.research.google.com/notebooks/data_table.ipynb>data table notebook</a>'\n",
              "            + ' to learn more about interactive tables.';\n",
              "          element.innerHTML = '';\n",
              "          dataTable['output_type'] = 'display_data';\n",
              "          await google.colab.output.renderOutput(dataTable, element);\n",
              "          const docLink = document.createElement('div');\n",
              "          docLink.innerHTML = docLinkHtml;\n",
              "          element.appendChild(docLink);\n",
              "        }\n",
              "      </script>\n",
              "    </div>\n",
              "  </div>\n",
              "  "
            ]
          },
          "metadata": {},
          "execution_count": 8
        }
      ]
    },
    {
      "cell_type": "code",
      "source": [
        "X = df['clean_text'].values\n",
        "y = df['target'].values\n",
        "\n",
        "\n",
        "X_train, X_test, y_train, y_test = train_test_split(X, y, test_size=0.25)"
      ],
      "metadata": {
        "id": "Gc2J7-ULbEEu"
      },
      "execution_count": null,
      "outputs": []
    },
    {
      "cell_type": "markdown",
      "source": [
        "## **Tokenization**"
      ],
      "metadata": {
        "id": "g2CupNp9d0Ou"
      }
    },
    {
      "cell_type": "code",
      "source": [
        "#tokenizer = Tokenizer(num_words=5000, oov_token='x')\n",
        "tokenizer = Tokenizer(num_words=5000, filters='!\"#$%&()*+,-./:;<=>?@[\\\\]^_`{|}~\\t\\n')\n",
        "tokenizer.fit_on_texts(X_train)\n",
        "tokenizer.fit_on_texts(X_test)\n",
        "\n",
        "sequences_train = tokenizer.texts_to_sequences(X_train)\n",
        "sequences_test = tokenizer.texts_to_sequences(X_test)\n",
        "\n",
        "padding_train = pad_sequences(sequences_train)\n",
        "padding_test = pad_sequences(sequences_test)\n",
        "\n",
        "print(padding_train.shape)\n",
        "print(padding_train)\n",
        "print(padding_test.shape)\n",
        "print(padding_test)"
      ],
      "metadata": {
        "id": "sVctUVGNditp",
        "colab": {
          "base_uri": "https://localhost:8080/"
        },
        "outputId": "850b82b6-c3c0-4e70-abe0-482a4b3f05df"
      },
      "execution_count": null,
      "outputs": [
        {
          "output_type": "stream",
          "name": "stdout",
          "text": [
            "(8527, 21)\n",
            "[[   0    0    0 ...  288  794 2183]\n",
            " [   0    0    0 ... 1527  121 4102]\n",
            " [   0    0    0 ...   12  423  174]\n",
            " ...\n",
            " [   0    0    0 ...  298   31 2818]\n",
            " [   0    0    0 ...  793  396  487]\n",
            " [   0    0    0 ... 2033 4555  212]]\n",
            "(2843, 17)\n",
            "[[   0    0    0 ...    0 4362  548]\n",
            " [   0    0    0 ... 2865  278  104]\n",
            " [   0    0    0 ...  271  153 1586]\n",
            " ...\n",
            " [   0    0    0 ...    6 3610  180]\n",
            " [   0    0    0 ... 3821  303  325]\n",
            " [   0    0    0 ... 2364 2343 3444]]\n"
          ]
        }
      ]
    },
    {
      "cell_type": "code",
      "source": [
        "model = tf.keras.Sequential([\n",
        "  tf.keras.layers.Embedding(input_dim=5000, output_dim=32),\n",
        "  tf.keras.layers.LSTM(50),\n",
        "  #tf.keras.layers.Dropout(0.2), \n",
        "  tf.keras.layers.Dense(23, activation='relu'),\n",
        "  tf.keras.layers.Dense(1, activation='sigmoid')\n",
        "])\n",
        "\n",
        "model.compile(loss='binary_crossentropy', optimizer='adam', metrics=['accuracy'])\n",
        "\n",
        "print(model.summary())"
      ],
      "metadata": {
        "colab": {
          "base_uri": "https://localhost:8080/"
        },
        "id": "jcNT12-te8O1",
        "outputId": "d31f38e6-21e9-4a8b-aebd-01325e854fe3"
      },
      "execution_count": null,
      "outputs": [
        {
          "output_type": "stream",
          "name": "stdout",
          "text": [
            "Model: \"sequential\"\n",
            "_________________________________________________________________\n",
            " Layer (type)                Output Shape              Param #   \n",
            "=================================================================\n",
            " embedding (Embedding)       (None, None, 32)          160000    \n",
            "                                                                 \n",
            " lstm (LSTM)                 (None, 50)                16600     \n",
            "                                                                 \n",
            " dense (Dense)               (None, 23)                1173      \n",
            "                                                                 \n",
            " dense_1 (Dense)             (None, 1)                 24        \n",
            "                                                                 \n",
            "=================================================================\n",
            "Total params: 177,797\n",
            "Trainable params: 177,797\n",
            "Non-trainable params: 0\n",
            "_________________________________________________________________\n",
            "None\n"
          ]
        }
      ]
    },
    {
      "cell_type": "code",
      "source": [
        "num_epochs = 30\n",
        "history = model.fit(padding_train, y_train, epochs=num_epochs, \n",
        "                    validation_data=(padding_test, y_test), verbose=2)"
      ],
      "metadata": {
        "colab": {
          "base_uri": "https://localhost:8080/"
        },
        "id": "EdVjCrVxgBCg",
        "outputId": "619680c3-78b9-4543-cdb8-0b4b8f68071f"
      },
      "execution_count": null,
      "outputs": [
        {
          "output_type": "stream",
          "name": "stdout",
          "text": [
            "Epoch 1/30\n",
            "267/267 - 6s - loss: 0.3928 - accuracy: 0.8479 - val_loss: 0.2797 - val_accuracy: 0.8917 - 6s/epoch - 23ms/step\n",
            "Epoch 2/30\n",
            "267/267 - 4s - loss: 0.2150 - accuracy: 0.9195 - val_loss: 0.2729 - val_accuracy: 0.8966 - 4s/epoch - 13ms/step\n",
            "Epoch 3/30\n",
            "267/267 - 3s - loss: 0.1498 - accuracy: 0.9471 - val_loss: 0.2904 - val_accuracy: 0.8959 - 3s/epoch - 13ms/step\n",
            "Epoch 4/30\n",
            "267/267 - 4s - loss: 0.1053 - accuracy: 0.9627 - val_loss: 0.3450 - val_accuracy: 0.8952 - 4s/epoch - 15ms/step\n",
            "Epoch 5/30\n",
            "267/267 - 6s - loss: 0.0764 - accuracy: 0.9756 - val_loss: 0.3997 - val_accuracy: 0.8920 - 6s/epoch - 21ms/step\n",
            "Epoch 6/30\n",
            "267/267 - 4s - loss: 0.0557 - accuracy: 0.9814 - val_loss: 0.4393 - val_accuracy: 0.8758 - 4s/epoch - 13ms/step\n",
            "Epoch 7/30\n",
            "267/267 - 3s - loss: 0.0450 - accuracy: 0.9858 - val_loss: 0.4961 - val_accuracy: 0.8846 - 3s/epoch - 12ms/step\n",
            "Epoch 8/30\n",
            "267/267 - 3s - loss: 0.0360 - accuracy: 0.9879 - val_loss: 0.5837 - val_accuracy: 0.8874 - 3s/epoch - 13ms/step\n",
            "Epoch 9/30\n",
            "267/267 - 3s - loss: 0.0243 - accuracy: 0.9916 - val_loss: 0.6687 - val_accuracy: 0.8829 - 3s/epoch - 13ms/step\n",
            "Epoch 10/30\n",
            "267/267 - 4s - loss: 0.0162 - accuracy: 0.9959 - val_loss: 0.7966 - val_accuracy: 0.8818 - 4s/epoch - 13ms/step\n",
            "Epoch 11/30\n",
            "267/267 - 4s - loss: 0.0124 - accuracy: 0.9959 - val_loss: 0.8402 - val_accuracy: 0.8811 - 4s/epoch - 13ms/step\n",
            "Epoch 12/30\n",
            "267/267 - 3s - loss: 0.0110 - accuracy: 0.9962 - val_loss: 0.8378 - val_accuracy: 0.8832 - 3s/epoch - 13ms/step\n",
            "Epoch 13/30\n",
            "267/267 - 3s - loss: 0.0088 - accuracy: 0.9971 - val_loss: 0.8294 - val_accuracy: 0.8765 - 3s/epoch - 13ms/step\n",
            "Epoch 14/30\n",
            "267/267 - 3s - loss: 0.0060 - accuracy: 0.9979 - val_loss: 1.0258 - val_accuracy: 0.8751 - 3s/epoch - 12ms/step\n",
            "Epoch 15/30\n",
            "267/267 - 3s - loss: 0.0039 - accuracy: 0.9982 - val_loss: 1.0830 - val_accuracy: 0.8713 - 3s/epoch - 13ms/step\n",
            "Epoch 16/30\n",
            "267/267 - 4s - loss: 0.0097 - accuracy: 0.9970 - val_loss: 0.9643 - val_accuracy: 0.8765 - 4s/epoch - 13ms/step\n",
            "Epoch 17/30\n",
            "267/267 - 4s - loss: 0.0062 - accuracy: 0.9973 - val_loss: 1.0320 - val_accuracy: 0.8772 - 4s/epoch - 14ms/step\n",
            "Epoch 18/30\n",
            "267/267 - 4s - loss: 0.0077 - accuracy: 0.9973 - val_loss: 0.9143 - val_accuracy: 0.8797 - 4s/epoch - 14ms/step\n",
            "Epoch 19/30\n",
            "267/267 - 3s - loss: 0.0131 - accuracy: 0.9951 - val_loss: 0.9352 - val_accuracy: 0.8660 - 3s/epoch - 13ms/step\n",
            "Epoch 20/30\n",
            "267/267 - 3s - loss: 0.0115 - accuracy: 0.9955 - val_loss: 0.9875 - val_accuracy: 0.8716 - 3s/epoch - 13ms/step\n",
            "Epoch 21/30\n",
            "267/267 - 4s - loss: 0.0051 - accuracy: 0.9979 - val_loss: 1.1073 - val_accuracy: 0.8772 - 4s/epoch - 13ms/step\n",
            "Epoch 22/30\n",
            "267/267 - 3s - loss: 0.0034 - accuracy: 0.9986 - val_loss: 1.1697 - val_accuracy: 0.8681 - 3s/epoch - 13ms/step\n",
            "Epoch 23/30\n",
            "267/267 - 3s - loss: 0.0028 - accuracy: 0.9985 - val_loss: 1.2528 - val_accuracy: 0.8713 - 3s/epoch - 13ms/step\n",
            "Epoch 24/30\n",
            "267/267 - 3s - loss: 0.0033 - accuracy: 0.9987 - val_loss: 1.2601 - val_accuracy: 0.8684 - 3s/epoch - 12ms/step\n",
            "Epoch 25/30\n",
            "267/267 - 3s - loss: 0.0027 - accuracy: 0.9986 - val_loss: 1.3178 - val_accuracy: 0.8755 - 3s/epoch - 13ms/step\n",
            "Epoch 26/30\n",
            "267/267 - 3s - loss: 0.0053 - accuracy: 0.9978 - val_loss: 1.2131 - val_accuracy: 0.8776 - 3s/epoch - 12ms/step\n",
            "Epoch 27/30\n",
            "267/267 - 3s - loss: 0.0065 - accuracy: 0.9974 - val_loss: 1.0586 - val_accuracy: 0.8769 - 3s/epoch - 12ms/step\n",
            "Epoch 28/30\n",
            "267/267 - 3s - loss: 0.0093 - accuracy: 0.9965 - val_loss: 1.0870 - val_accuracy: 0.8618 - 3s/epoch - 12ms/step\n",
            "Epoch 29/30\n",
            "267/267 - 3s - loss: 0.0047 - accuracy: 0.9977 - val_loss: 1.0728 - val_accuracy: 0.8748 - 3s/epoch - 13ms/step\n",
            "Epoch 30/30\n",
            "267/267 - 4s - loss: 0.0023 - accuracy: 0.9989 - val_loss: 1.2287 - val_accuracy: 0.8663 - 4s/epoch - 14ms/step\n"
          ]
        }
      ]
    },
    {
      "cell_type": "code",
      "source": [
        "plt.plot(history.history['loss'])\n",
        "plt.plot(history.history['val_loss'])\n",
        "plt.title('Loss Model')\n",
        "plt.ylabel('Loss')\n",
        "plt.xlabel('Epoch')\n",
        "plt.legend(['train', 'test'], loc='upper left')\n",
        "plt.show()"
      ],
      "metadata": {
        "colab": {
          "base_uri": "https://localhost:8080/",
          "height": 295
        },
        "id": "5vFZ2HXrgch6",
        "outputId": "09c26fe7-65d3-46c0-cd2d-427d68b05d22"
      },
      "execution_count": null,
      "outputs": [
        {
          "output_type": "display_data",
          "data": {
            "text/plain": [
              "<Figure size 432x288 with 1 Axes>"
            ],
            "image/png": "[encoded data removed]"
          },
          "metadata": {
            "needs_background": "light"
          }
        }
      ]
    },
    {
      "cell_type": "code",
      "source": [
        "plt.plot(history.history['accuracy'])\n",
        "plt.plot(history.history['val_accuracy'])\n",
        "plt.title('Akurasi Model')\n",
        "plt.ylabel('Accuracy')\n",
        "plt.xlabel('Epoch')\n",
        "plt.legend(['train', 'test'], loc='upper left')\n",
        "plt.show()"
      ],
      "metadata": {
        "colab": {
          "base_uri": "https://localhost:8080/",
          "height": 295
        },
        "id": "RlTwA2ESlXZ7",
        "outputId": "ed1af875-f427-4bb1-8f21-707688f31ae5"
      },
      "execution_count": null,
      "outputs": [
        {
          "output_type": "display_data",
          "data": {
            "text/plain": [
              "<Figure size 432x288 with 1 Axes>"
            ],
            "image/png": "[encoded data removed]"
          },
          "metadata": {
            "needs_background": "light"
          }
        }
      ]
    },
    {
      "cell_type": "code",
      "source": [
        "def predict(tweet):\n",
        "    test_word = tweet\n",
        "\n",
        "    sentence = tokenizer.texts_to_sequences([test_word])\n",
        "    sentence = pad_sequences(sentence,maxlen=250)\n",
        "\n",
        "    #prediction = model.predict(sentence)\n",
        "    prediction = int(model.predict(sentence).round().item())\n",
        "    \n",
        "    proba =  np.max(model.predict(sentence))\n",
        "\n",
        "    if(prediction == 0):\n",
        "        return('No Disaster : ',  proba)\n",
        "    else:\n",
        "        return('Disaster : ',  proba)"
      ],
      "metadata": {
        "id": "v94ad03qlZGg"
      },
      "execution_count": null,
      "outputs": []
    },
    {
      "cell_type": "code",
      "source": [
        "predict('Human Coronavirus')"
      ],
      "metadata": {
        "colab": {
          "base_uri": "https://localhost:8080/"
        },
        "id": "dn8s47u1bXGI",
        "outputId": "44786188-3874-4df0-8c7a-a0336aa942e4"
      },
      "execution_count": null,
      "outputs": [
        {
          "output_type": "execute_result",
          "data": {
            "text/plain": [
              "('Disaster : ', 0.92827255)"
            ]
          },
          "metadata": {},
          "execution_count": 27
        }
      ]
    },
    {
      "cell_type": "code",
      "source": [
        "predict('only if Surajmal and Bhau had somehow forged an alliance it would hv resulted in annihilation of ummah')"
      ],
      "metadata": {
        "colab": {
          "base_uri": "https://localhost:8080/"
        },
        "id": "woV9yMF3dj66",
        "outputId": "75ab6f88-865f-4a6b-9fe4-d5504e75c008"
      },
      "execution_count": null,
      "outputs": [
        {
          "output_type": "execute_result",
          "data": {
            "text/plain": [
              "('Disaster : ', 0.99996704)"
            ]
          },
          "metadata": {},
          "execution_count": 26
        }
      ]
    },
    {
      "cell_type": "code",
      "source": [
        "predict('tsunami killed alot of people')"
      ],
      "metadata": {
        "colab": {
          "base_uri": "https://localhost:8080/"
        },
        "id": "7kP0qEBOzROz",
        "outputId": "52bc5144-0832-4bc9-ad08-74f50f5731a1"
      },
      "execution_count": null,
      "outputs": [
        {
          "output_type": "execute_result",
          "data": {
            "text/plain": [
              "('Disaster : ', 0.99798286)"
            ]
          },
          "metadata": {},
          "execution_count": 32
        }
      ]
    },
    {
      "cell_type": "code",
      "source": [
        "predict('This isnt good. I feel for the people of Puerto Rico')"
      ],
      "metadata": {
        "colab": {
          "base_uri": "https://localhost:8080/"
        },
        "id": "K4xePQC0HGIe",
        "outputId": "b1f4735f-d4e3-4156-8f0b-9e638b434170"
      },
      "execution_count": null,
      "outputs": [
        {
          "output_type": "execute_result",
          "data": {
            "text/plain": [
              "('No Disaster : ', 0.00018209219)"
            ]
          },
          "metadata": {},
          "execution_count": 28
        }
      ]
    },
    {
      "cell_type": "code",
      "source": [
        "predict('Darkake(7 yeek possessor) was killed by possession aftershock on Ritches Tunnels 2')"
      ],
      "metadata": {
        "colab": {
          "base_uri": "https://localhost:8080/"
        },
        "id": "sTswQfxDHPeM",
        "outputId": "fa3f6944-7a29-483f-851c-a6a272b63d4e"
      },
      "execution_count": null,
      "outputs": [
        {
          "output_type": "execute_result",
          "data": {
            "text/plain": [
              "('Disaster : ', 0.9999981)"
            ]
          },
          "metadata": {},
          "execution_count": 29
        }
      ]
    }
  ]
}